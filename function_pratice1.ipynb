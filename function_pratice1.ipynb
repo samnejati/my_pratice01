{
 "cells": [
  {
   "cell_type": "markdown",
   "id": "40b9a9bb-9cd1-40a8-aa3c-70ecc6faa41c",
   "metadata": {},
   "source": [
    "1. Write a Python function to find the Max of three numbers. Go to the editor"
   ]
  },
  {
   "cell_type": "code",
   "execution_count": 4,
   "id": "4c2c59b5-4a3d-4cdc-8cb4-4859bb01cfc5",
   "metadata": {},
   "outputs": [],
   "source": [
    "def find_max(a,b,c):\n",
    "    max = a\n",
    "    \n",
    "    if b > max :\n",
    "        max = b\n",
    "    if c > max:\n",
    "        max = c\n",
    "        \n",
    "    return max"
   ]
  },
  {
   "cell_type": "code",
   "execution_count": 5,
   "id": "c3d8f393-cda7-435e-8ab4-d1c4f2eb8dea",
   "metadata": {},
   "outputs": [
    {
     "data": {
      "text/plain": [
       "3"
      ]
     },
     "execution_count": 5,
     "metadata": {},
     "output_type": "execute_result"
    }
   ],
   "source": [
    "find_max(1,2,3,)"
   ]
  },
  {
   "cell_type": "code",
   "execution_count": 6,
   "id": "284816d9-dec9-4541-ab15-006773641170",
   "metadata": {},
   "outputs": [],
   "source": [
    "def find_max2(*args):\n",
    "    return print(sorted(args, reverse= True)[:1])"
   ]
  },
  {
   "cell_type": "code",
   "execution_count": 7,
   "id": "aa6981e0-12f5-4ac1-ba40-f07d331467e8",
   "metadata": {
    "tags": []
   },
   "outputs": [
    {
     "name": "stdout",
     "output_type": "stream",
     "text": [
      "[8]\n"
     ]
    }
   ],
   "source": [
    "find_max2(2,6,2,4,1,8)"
   ]
  },
  {
   "cell_type": "code",
   "execution_count": 8,
   "id": "d4f76448-8c88-45a6-89a3-6c612e0cce27",
   "metadata": {},
   "outputs": [],
   "source": [
    "def find_max3(*args):\n",
    "    return print(sorted(args)[:-1])"
   ]
  },
  {
   "cell_type": "code",
   "execution_count": 9,
   "id": "1622e318-3660-42d4-9620-076b4d358a12",
   "metadata": {},
   "outputs": [
    {
     "name": "stdout",
     "output_type": "stream",
     "text": [
      "[8]\n"
     ]
    }
   ],
   "source": [
    "find_max2(2,6,2,4,1,8)"
   ]
  },
  {
   "cell_type": "code",
   "execution_count": 15,
   "id": "fafc8dd6-8c09-40ca-bfb2-20e604dcbd9d",
   "metadata": {},
   "outputs": [],
   "source": [
    "def find_max4(a: tuple=(0,0,0)) -> int :\n",
    "    return max(a)"
   ]
  },
  {
   "cell_type": "code",
   "execution_count": 16,
   "id": "d7786eb9-c91d-4600-b9f7-00989c1c949b",
   "metadata": {},
   "outputs": [
    {
     "ename": "TypeError",
     "evalue": "find_max4() takes from 0 to 1 positional arguments but 3 were given",
     "output_type": "error",
     "traceback": [
      "\u001b[0;31m---------------------------------------------------------------------------\u001b[0m",
      "\u001b[0;31mTypeError\u001b[0m                                 Traceback (most recent call last)",
      "\u001b[0;32m/tmp/ipykernel_5056/3358798793.py\u001b[0m in \u001b[0;36m<module>\u001b[0;34m\u001b[0m\n\u001b[0;32m----> 1\u001b[0;31m \u001b[0mfind_max4\u001b[0m\u001b[0;34m(\u001b[0m\u001b[0;36m1\u001b[0m\u001b[0;34m,\u001b[0m\u001b[0;36m2\u001b[0m\u001b[0;34m,\u001b[0m\u001b[0;36m3\u001b[0m\u001b[0;34m)\u001b[0m \u001b[0;31m##  raises typeError. Requires a tuple, but given 3 ints\u001b[0m\u001b[0;34m\u001b[0m\u001b[0;34m\u001b[0m\u001b[0m\n\u001b[0m",
      "\u001b[0;31mTypeError\u001b[0m: find_max4() takes from 0 to 1 positional arguments but 3 were given"
     ]
    }
   ],
   "source": [
    "find_max4(1,2,3) ##  raises typeError. Requires a tuple, but given 3 ints"
   ]
  },
  {
   "cell_type": "code",
   "execution_count": 12,
   "id": "f0f13624-355d-47ff-ac84-623e829c095b",
   "metadata": {},
   "outputs": [
    {
     "data": {
      "text/plain": [
       "3"
      ]
     },
     "execution_count": 12,
     "metadata": {},
     "output_type": "execute_result"
    }
   ],
   "source": [
    "find_max4((1,2,3))"
   ]
  },
  {
   "cell_type": "code",
   "execution_count": 18,
   "id": "4c05862e-1967-4574-a9b6-a887b86f4674",
   "metadata": {},
   "outputs": [
    {
     "data": {
      "text/plain": [
       "0"
      ]
     },
     "execution_count": 18,
     "metadata": {},
     "output_type": "execute_result"
    }
   ],
   "source": [
    "find_max4() # returns the default value --> max of (0, 0, 0)"
   ]
  },
  {
   "cell_type": "code",
   "execution_count": 22,
   "id": "d7c0ddb0-8f22-4a65-be4f-4c9c8831d491",
   "metadata": {},
   "outputs": [],
   "source": [
    "nums = []\n",
    "import math\n",
    "def find_max5():\n",
    "    while len(nums) < 3:\n",
    "        num = int(input('Enter a number: '))\n",
    "        nums.append(num)\n",
    "    \n",
    "    print()\n",
    "    print(f'The max is {max(nums)}')\n"
   ]
  },
  {
   "cell_type": "code",
   "execution_count": 23,
   "id": "de1e85c6-2763-4b35-8298-ccc6e567b80c",
   "metadata": {},
   "outputs": [
    {
     "name": "stdin",
     "output_type": "stream",
     "text": [
      "Enter a number:  1\n",
      "Enter a number:  2\n",
      "Enter a number:  3\n"
     ]
    },
    {
     "name": "stdout",
     "output_type": "stream",
     "text": [
      "\n",
      "The max is 3\n"
     ]
    }
   ],
   "source": [
    "find_max5()"
   ]
  },
  {
   "cell_type": "code",
   "execution_count": null,
   "id": "60301657-cf5e-460c-b105-b94736a7570a",
   "metadata": {},
   "outputs": [],
   "source": []
  },
  {
   "cell_type": "markdown",
   "id": "09386411-26ea-46f4-8cd0-cb857bfadecf",
   "metadata": {},
   "source": [
    "2. Write a Python function to sum all the numbers in a list. Go to the editor\n",
    "Sample List : (8, 2, 3, 0, 7)\n",
    "Expected Output : 20"
   ]
  },
  {
   "cell_type": "code",
   "execution_count": 27,
   "id": "ee0e81ef-d61e-4d3c-9af8-4b3ec9657a47",
   "metadata": {},
   "outputs": [],
   "source": [
    "def sum_func(a: list = [])-> int or float:\n",
    "    sum = 0\n",
    "    for num in a:\n",
    "        sum += num\n",
    "    \n",
    "    return sum"
   ]
  },
  {
   "cell_type": "code",
   "execution_count": 30,
   "id": "68302330-f41a-4dec-bc0b-8ecfe9f39ebb",
   "metadata": {},
   "outputs": [
    {
     "data": {
      "text/plain": [
       "12"
      ]
     },
     "execution_count": 30,
     "metadata": {},
     "output_type": "execute_result"
    }
   ],
   "source": [
    "sum_func([1,2,4,5])"
   ]
  },
  {
   "cell_type": "code",
   "execution_count": 31,
   "id": "6dfd062f-9bc5-4234-a3ca-c2338267a063",
   "metadata": {},
   "outputs": [
    {
     "data": {
      "text/plain": [
       "12.6"
      ]
     },
     "execution_count": 31,
     "metadata": {},
     "output_type": "execute_result"
    }
   ],
   "source": [
    "sum_func([1.1,2.5,4,5])"
   ]
  },
  {
   "cell_type": "code",
   "execution_count": null,
   "id": "441b2aa6-5e28-42a9-ac1a-dd49429d42dd",
   "metadata": {},
   "outputs": [],
   "source": []
  }
 ],
 "metadata": {
  "kernelspec": {
   "display_name": "Python 3 (ipykernel)",
   "language": "python",
   "name": "python3"
  },
  "language_info": {
   "codemirror_mode": {
    "name": "ipython",
    "version": 3
   },
   "file_extension": ".py",
   "mimetype": "text/x-python",
   "name": "python",
   "nbconvert_exporter": "python",
   "pygments_lexer": "ipython3",
   "version": "3.7.10"
  }
 },
 "nbformat": 4,
 "nbformat_minor": 5
}
